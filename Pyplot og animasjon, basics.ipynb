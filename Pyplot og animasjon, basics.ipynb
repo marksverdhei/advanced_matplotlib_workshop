{
 "cells": [
  {
   "cell_type": "markdown",
   "metadata": {
    "slideshow": {
     "slide_type": "slide"
    }
   },
   "source": [
    "# Pyplot basics\n",
    "\n",
    "## Markus S. Heiervang\n",
    "\n",
    "Pass på å ha installert numpy og matplotlib. Numpy forkortes som regel som np, og pyplot som plt.  \n",
    "I tillegg importerer vi FuncAnimation for å få til animasjoner."
   ]
  },
  {
   "cell_type": "code",
   "execution_count": 1,
   "metadata": {
    "slideshow": {
     "slide_type": "-"
    }
   },
   "outputs": [],
   "source": [
    "import numpy as np\n",
    "import matplotlib.pyplot as plt\n",
    "from matplotlib.animation import FuncAnimation"
   ]
  },
  {
   "cell_type": "markdown",
   "metadata": {
    "slideshow": {
     "slide_type": "subslide"
    }
   },
   "source": [
    "## Først litt om numpy arrays\n"
   ]
  },
  {
   "cell_type": "markdown",
   "metadata": {
    "slideshow": {
     "slide_type": "notes"
    }
   },
   "source": [
    "(scroll forbi dette hvis du føler deg stødig på numpy)  \n",
    "numpy arrays er en datastruktur numpy tilbyr for å forenkle og optimalisere matematiske operasjoner.  \n",
    "Numpy brukes mest til å lage og å gjøre operasjoner på disse arrayene\n",
    "De likner litt på pythons lister, men har noen klare fordeler"
   ]
  },
  {
   "cell_type": "code",
   "execution_count": 2,
   "metadata": {
    "slideshow": {
     "slide_type": "fragment"
    }
   },
   "outputs": [
    {
     "data": {
      "text/plain": [
       "array([1, 2, 3])"
      ]
     },
     "execution_count": 2,
     "metadata": {},
     "output_type": "execute_result"
    }
   ],
   "source": [
    "# Lage en numpy array fra en liste:\n",
    "a = np.array([1, 2, 3])\n",
    "a"
   ]
  },
  {
   "cell_type": "code",
   "execution_count": 3,
   "metadata": {
    "slideshow": {
     "slide_type": "fragment"
    }
   },
   "outputs": [
    {
     "data": {
      "text/plain": [
       "array([0. , 0.1, 0.2, 0.3, 0.4, 0.5, 0.6, 0.7, 0.8, 0.9, 1. , 1.1, 1.2,\n",
       "       1.3, 1.4, 1.5, 1.6, 1.7, 1.8, 1.9, 2. , 2.1, 2.2, 2.3, 2.4, 2.5,\n",
       "       2.6, 2.7, 2.8, 2.9, 3. , 3.1, 3.2, 3.3, 3.4, 3.5, 3.6, 3.7, 3.8,\n",
       "       3.9, 4. , 4.1, 4.2, 4.3, 4.4, 4.5, 4.6, 4.7, 4.8, 4.9, 5. , 5.1,\n",
       "       5.2, 5.3, 5.4, 5.5, 5.6, 5.7, 5.8, 5.9, 6. , 6.1, 6.2, 6.3, 6.4,\n",
       "       6.5, 6.6, 6.7, 6.8, 6.9, 7. , 7.1, 7.2, 7.3, 7.4, 7.5, 7.6, 7.7,\n",
       "       7.8, 7.9, 8. , 8.1, 8.2, 8.3, 8.4, 8.5, 8.6, 8.7, 8.8, 8.9, 9. ,\n",
       "       9.1, 9.2, 9.3, 9.4, 9.5, 9.6, 9.7, 9.8, 9.9])"
      ]
     },
     "execution_count": 3,
     "metadata": {},
     "output_type": "execute_result"
    }
   ],
   "source": [
    "# Lage en numpy array fra en range:\n",
    "b = np.arange(0, 10, 0.1)\n",
    "b"
   ]
  },
  {
   "cell_type": "markdown",
   "metadata": {
    "slideshow": {
     "slide_type": "subslide"
    }
   },
   "source": [
    "## Operasjoner på numpy arrays\n",
    "De fleste operasjoner som man kan utføre på enkle tall, kan man utføre på disse arrayene. Det som skjer da er at operasjonen utføres på alle elementene i arrayen. "
   ]
  },
  {
   "cell_type": "code",
   "execution_count": 4,
   "metadata": {
    "slideshow": {
     "slide_type": "fragment"
    }
   },
   "outputs": [
    {
     "data": {
      "text/plain": [
       "array([2, 3, 4])"
      ]
     },
     "execution_count": 4,
     "metadata": {},
     "output_type": "execute_result"
    }
   ],
   "source": [
    "c = a + 1\n",
    "c"
   ]
  },
  {
   "cell_type": "code",
   "execution_count": 5,
   "metadata": {
    "slideshow": {
     "slide_type": "fragment"
    }
   },
   "outputs": [
    {
     "data": {
      "text/plain": [
       "array([2, 4, 6])"
      ]
     },
     "execution_count": 5,
     "metadata": {},
     "output_type": "execute_result"
    }
   ],
   "source": [
    "# Funksjoner funker også like bra\n",
    "def f(x):\n",
    "    return 2*x\n",
    "\n",
    "d = f(a)\n",
    "d"
   ]
  },
  {
   "cell_type": "markdown",
   "metadata": {
    "slideshow": {
     "slide_type": "subslide"
    }
   },
   "source": [
    "### Man kan også gjøre operasjoner mellom to arrays"
   ]
  },
  {
   "cell_type": "code",
   "execution_count": 6,
   "metadata": {
    "slideshow": {
     "slide_type": "fragment"
    }
   },
   "outputs": [
    {
     "data": {
      "text/plain": [
       "array([3, 5, 7])"
      ]
     },
     "execution_count": 6,
     "metadata": {},
     "output_type": "execute_result"
    }
   ],
   "source": [
    "\n",
    "a + c"
   ]
  },
  {
   "cell_type": "code",
   "execution_count": 7,
   "metadata": {
    "slideshow": {
     "slide_type": "fragment"
    }
   },
   "outputs": [
    {
     "data": {
      "text/plain": [
       "array([ 2,  8, 18])"
      ]
     },
     "execution_count": 7,
     "metadata": {},
     "output_type": "execute_result"
    }
   ],
   "source": [
    "a * d"
   ]
  },
  {
   "cell_type": "code",
   "execution_count": 8,
   "metadata": {
    "slideshow": {
     "slide_type": "fragment"
    }
   },
   "outputs": [
    {
     "name": "stdout",
     "output_type": "stream",
     "text": [
      "(3,)\n",
      "(100,)\n"
     ]
    },
    {
     "data": {
      "text/plain": [
       "3"
      ]
     },
     "execution_count": 8,
     "metadata": {},
     "output_type": "execute_result"
    }
   ],
   "source": [
    "# For å få lengden(e) bruker man array.shape\n",
    "# (hvis man har flerdimensjonale arrays får man lengdene i alle dimensjonene)\n",
    "print(a.shape)\n",
    "print(b.shape)\n",
    "len([1,2,3])"
   ]
  },
  {
   "cell_type": "markdown",
   "metadata": {
    "slideshow": {
     "slide_type": "subslide"
    }
   },
   "source": [
    "## np.linspace(start, stop, lengde)\n",
    "\n",
    "np.linspace er også en nyttig funksjon for å lage numpy arrays. Du sender inn en start og en slutt, og alternativt antall punkter du vil ha. Funksjonen returnerer en array med desimaltall som vokser linjært fra det første punktet til det andre. Er praktisk for å får fine kurver (altså istedenfor grove), ettersom den pleier å gi ganske lange arrays."
   ]
  },
  {
   "cell_type": "code",
   "execution_count": 9,
   "metadata": {
    "slideshow": {
     "slide_type": "fragment"
    }
   },
   "outputs": [
    {
     "data": {
      "text/plain": [
       "array([0.        , 0.02040816, 0.04081633, 0.06122449, 0.08163265,\n",
       "       0.10204082, 0.12244898, 0.14285714, 0.16326531, 0.18367347,\n",
       "       0.20408163, 0.2244898 , 0.24489796, 0.26530612, 0.28571429,\n",
       "       0.30612245, 0.32653061, 0.34693878, 0.36734694, 0.3877551 ,\n",
       "       0.40816327, 0.42857143, 0.44897959, 0.46938776, 0.48979592,\n",
       "       0.51020408, 0.53061224, 0.55102041, 0.57142857, 0.59183673,\n",
       "       0.6122449 , 0.63265306, 0.65306122, 0.67346939, 0.69387755,\n",
       "       0.71428571, 0.73469388, 0.75510204, 0.7755102 , 0.79591837,\n",
       "       0.81632653, 0.83673469, 0.85714286, 0.87755102, 0.89795918,\n",
       "       0.91836735, 0.93877551, 0.95918367, 0.97959184, 1.        ])"
      ]
     },
     "execution_count": 9,
     "metadata": {},
     "output_type": "execute_result"
    }
   ],
   "source": [
    "x = np.linspace(0, 1)\n",
    "x"
   ]
  },
  {
   "cell_type": "markdown",
   "metadata": {
    "slideshow": {
     "slide_type": "subslide"
    }
   },
   "source": [
    "# Hvordan plotte en funksjon\n",
    "\n",
    "Vi har tre funksjoner. Nå skal vi visualisere dem\n",
    "$$ f(x) = 3x + 1 $$\n",
    "$$ g(x) = x^2 $$\n",
    "$$ h(x) = 10\\sin(x)+20$$"
   ]
  },
  {
   "cell_type": "code",
   "execution_count": 10,
   "metadata": {
    "slideshow": {
     "slide_type": "fragment"
    }
   },
   "outputs": [],
   "source": [
    "def f(x):\n",
    "    return 3*x + 1\n",
    "\n",
    "def g(x):\n",
    "    return x**2\n",
    "\n",
    "def h(x):\n",
    "    return 10*np.sin(x)+20"
   ]
  },
  {
   "cell_type": "code",
   "execution_count": 11,
   "metadata": {
    "slideshow": {
     "slide_type": "fragment"
    }
   },
   "outputs": [],
   "source": [
    "# Vi lager en array for x-aksen\n",
    "x_data = np.linspace(-10, 10, 100)\n",
    "\n",
    "fx = f(x_data)\n",
    "gx = g(x_data)\n",
    "hx = h(x_data)"
   ]
  },
  {
   "cell_type": "markdown",
   "metadata": {
    "slideshow": {
     "slide_type": "subslide"
    }
   },
   "source": [
    "## plt.plot(x_data, y_data, ...)\n",
    "\n",
    "plt.plot er metoden som tegner funksjonene. Den tar inn en liste, tuppel, eller helst numpy array for x og y kordinater, og så en rekke alternative andre nøkkelordargumenter"
   ]
  },
  {
   "cell_type": "code",
   "execution_count": 12,
   "metadata": {
    "slideshow": {
     "slide_type": "subslide"
    }
   },
   "outputs": [
    {
     "data": {
      "text/plain": [
       "<matplotlib.legend.Legend at 0x7f14617541d0>"
      ]
     },
     "execution_count": 12,
     "metadata": {},
     "output_type": "execute_result"
    },
    {
     "data": {
      "image/png": "[encoded data removed]",
      "text/plain": [
       "<Figure size 432x288 with 1 Axes>"
      ]
     },
     "metadata": {
      "needs_background": "light"
     },
     "output_type": "display_data"
    }
   ],
   "source": [
    "%matplotlib inline\n",
    "\n",
    "plt.plot(x_data, fx, label=\"f(x)\")\n",
    "plt.plot(x_data, gx, label=\"g(x)\")\n",
    "plt.plot(x_data, hx, label=\"h(x)\")\n",
    "\n",
    "# legend viser hvilke funksjoner som tilhører hvilken merknad\n",
    "plt.legend()\n",
    "\n",
    "# plt.grid() gir oss rutenett\n",
    "plt.grid()"
   ]
  },
  {
   "cell_type": "markdown",
   "metadata": {
    "slideshow": {
     "slide_type": "subslide"
    }
   },
   "source": [
    "## En enkel animasjon\n",
    "\n",
    "Vi skal animere h(x) der x vokser over tid. Merk at vi bruker ax istedenfor plt. Når man beholder kordinatsystemet som et objekt \"ax\" blir det nesten det samme som å bruke plt  \n",
    "  \n",
    "På grunn av en merkelig feil må man kjøre denne cellen to ganger for å få den til å fungere"
   ]
  },
  {
   "cell_type": "code",
   "execution_count": 13,
   "metadata": {
    "slideshow": {
     "slide_type": "subslide"
    }
   },
   "outputs": [
    {
     "data": {
      "image/png": "[encoded data removed]",
      "text/plain": [
       "<Figure size 432x288 with 1 Axes>"
      ]
     },
     "metadata": {
      "needs_background": "light"
     },
     "output_type": "display_data"
    }
   ],
   "source": [
    "\n",
    "# fig og ax er objekter som tilhører plottet. ax er kordinatsystemte, og tilhører fig som er selve vinduet\n",
    "fig, ax = plt.subplots()\n",
    "\n",
    "# da refererer vi til ax istedenfor plt når vi plotter\n",
    "ax.grid()\n",
    "\n",
    "# denne gangen må vi beholde objektet som plot-metoden returnerer\n",
    "# slik at vi kan endre dem i animasjonsfunksjonen\n",
    "line, = ax.plot(x_data, hx)\n",
    "\n",
    "# set_xlim gjør at kordinatene som vises er mellom -10 og 10 i x-aksen\n",
    "ax.set_xlim(-10, 10)\n",
    "# ylim er tilsvarende xlim for y-aksen\n",
    "ax.set_ylim(0, 40)\n",
    "\n",
    "def next_frame(frame_number):\n",
    "    i = frame_number/10\n",
    "    y_data = h(x_data+i)\n",
    "    line.set_ydata(y_data)\n",
    "\n",
    "# FuncAnimation konstruktøren tar inn figuren, funksjonen som \n",
    "# modifiserer plottet, og en rekke nøkkelordargumneter.\n",
    "# interval sier hvor rask animasjonen skal være\n",
    "ani = FuncAnimation(fig, func=next_frame, interval=10, frames=200)"
   ]
  },
  {
   "cell_type": "code",
   "execution_count": 14,
   "metadata": {},
   "outputs": [
    {
     "name": "stderr",
     "output_type": "stream",
     "text": [
      "MovieWriter ffmpeg unavailable; trying to use <class 'matplotlib.animation.PillowWriter'> instead.\n"
     ]
    }
   ],
   "source": [
    "ani.save(\"gifs/sine_curve.gif\", fps=30)"
   ]
  },
  {
   "cell_type": "code",
   "execution_count": 15,
   "metadata": {},
   "outputs": [
    {
     "data": {
      "text/html": [
       "<img src=\"gifs/sine_curve.gif\"/>"
      ],
      "text/plain": [
       "<IPython.core.display.Image object>"
      ]
     },
     "execution_count": 15,
     "metadata": {},
     "output_type": "execute_result"
    }
   ],
   "source": [
    "from IPython.display import Image\n",
    "Image(url=\"gifs/sine_curve.gif\")"
   ]
  }
 ],
 "metadata": {
  "kernelspec": {
   "display_name": "Python 3",
   "language": "python",
   "name": "python3"
  },
  "language_info": {
   "codemirror_mode": {
    "name": "ipython",
    "version": 3
   },
   "file_extension": ".py",
   "mimetype": "text/x-python",
   "name": "python",
   "nbconvert_exporter": "python",
   "pygments_lexer": "ipython3",
   "version": "3.7.5"
  }
 },
 "nbformat": 4,
 "nbformat_minor": 4
}
